{
 "cells": [
  {
   "cell_type": "markdown",
   "id": "99219a88",
   "metadata": {},
   "source": [
    "# State-of-charge and Health Estimation for Lithium-ion EV Batteries Using Hybrid machine learning (LinearRegression)\n"
   ]
  },
  {
   "cell_type": "code",
   "execution_count": 12,
   "id": "51b68318",
   "metadata": {},
   "outputs": [],
   "source": [
    "# Import necessary libraries\n",
    "import pandas as pd\n",
    "import numpy as np\n",
    "from sklearn.model_selection import train_test_split\n",
    "from sklearn.linear_model import LinearRegression\n",
    "from sklearn.metrics import mean_squared_error\n"
   ]
  },
  {
   "cell_type": "code",
   "execution_count": 2,
   "id": "3b0a1010",
   "metadata": {},
   "outputs": [
    {
     "data": {
      "text/html": [
       "<div>\n",
       "<style scoped>\n",
       "    .dataframe tbody tr th:only-of-type {\n",
       "        vertical-align: middle;\n",
       "    }\n",
       "\n",
       "    .dataframe tbody tr th {\n",
       "        vertical-align: top;\n",
       "    }\n",
       "\n",
       "    .dataframe thead th {\n",
       "        text-align: right;\n",
       "    }\n",
       "</style>\n",
       "<table border=\"1\" class=\"dataframe\">\n",
       "  <thead>\n",
       "    <tr style=\"text-align: right;\">\n",
       "      <th></th>\n",
       "      <th>cycle</th>\n",
       "      <th>ambient_temperature</th>\n",
       "      <th>datetime</th>\n",
       "      <th>capacity</th>\n",
       "      <th>voltage_measured</th>\n",
       "      <th>current_measured</th>\n",
       "      <th>temperature_measured</th>\n",
       "      <th>current_load</th>\n",
       "      <th>voltage_load</th>\n",
       "      <th>time</th>\n",
       "    </tr>\n",
       "  </thead>\n",
       "  <tbody>\n",
       "    <tr>\n",
       "      <th>0</th>\n",
       "      <td>1</td>\n",
       "      <td>24</td>\n",
       "      <td>2008-04-02 15:25:41</td>\n",
       "      <td>2.035338</td>\n",
       "      <td>4.179800</td>\n",
       "      <td>-0.002366</td>\n",
       "      <td>24.277568</td>\n",
       "      <td>-0.0006</td>\n",
       "      <td>0.000</td>\n",
       "      <td>0.000</td>\n",
       "    </tr>\n",
       "    <tr>\n",
       "      <th>1</th>\n",
       "      <td>1</td>\n",
       "      <td>24</td>\n",
       "      <td>2008-04-02 15:25:41</td>\n",
       "      <td>2.035338</td>\n",
       "      <td>4.179823</td>\n",
       "      <td>0.000434</td>\n",
       "      <td>24.277073</td>\n",
       "      <td>-0.0006</td>\n",
       "      <td>4.195</td>\n",
       "      <td>16.781</td>\n",
       "    </tr>\n",
       "    <tr>\n",
       "      <th>2</th>\n",
       "      <td>1</td>\n",
       "      <td>24</td>\n",
       "      <td>2008-04-02 15:25:41</td>\n",
       "      <td>2.035338</td>\n",
       "      <td>3.966528</td>\n",
       "      <td>-2.014242</td>\n",
       "      <td>24.366226</td>\n",
       "      <td>-1.9990</td>\n",
       "      <td>3.070</td>\n",
       "      <td>35.703</td>\n",
       "    </tr>\n",
       "    <tr>\n",
       "      <th>3</th>\n",
       "      <td>1</td>\n",
       "      <td>24</td>\n",
       "      <td>2008-04-02 15:25:41</td>\n",
       "      <td>2.035338</td>\n",
       "      <td>3.945886</td>\n",
       "      <td>-2.008730</td>\n",
       "      <td>24.515123</td>\n",
       "      <td>-1.9990</td>\n",
       "      <td>3.045</td>\n",
       "      <td>53.781</td>\n",
       "    </tr>\n",
       "    <tr>\n",
       "      <th>4</th>\n",
       "      <td>1</td>\n",
       "      <td>24</td>\n",
       "      <td>2008-04-02 15:25:41</td>\n",
       "      <td>2.035338</td>\n",
       "      <td>3.930354</td>\n",
       "      <td>-2.013381</td>\n",
       "      <td>24.676053</td>\n",
       "      <td>-1.9990</td>\n",
       "      <td>3.026</td>\n",
       "      <td>71.922</td>\n",
       "    </tr>\n",
       "    <tr>\n",
       "      <th>5</th>\n",
       "      <td>1</td>\n",
       "      <td>24</td>\n",
       "      <td>2008-04-02 15:25:41</td>\n",
       "      <td>2.035338</td>\n",
       "      <td>3.917440</td>\n",
       "      <td>-2.011192</td>\n",
       "      <td>24.853025</td>\n",
       "      <td>-1.9990</td>\n",
       "      <td>3.011</td>\n",
       "      <td>90.094</td>\n",
       "    </tr>\n",
       "    <tr>\n",
       "      <th>6</th>\n",
       "      <td>1</td>\n",
       "      <td>24</td>\n",
       "      <td>2008-04-02 15:25:41</td>\n",
       "      <td>2.035338</td>\n",
       "      <td>3.906451</td>\n",
       "      <td>-2.010007</td>\n",
       "      <td>25.018929</td>\n",
       "      <td>-1.9990</td>\n",
       "      <td>3.002</td>\n",
       "      <td>108.281</td>\n",
       "    </tr>\n",
       "    <tr>\n",
       "      <th>7</th>\n",
       "      <td>1</td>\n",
       "      <td>24</td>\n",
       "      <td>2008-04-02 15:25:41</td>\n",
       "      <td>2.035338</td>\n",
       "      <td>3.896511</td>\n",
       "      <td>-2.010279</td>\n",
       "      <td>25.204449</td>\n",
       "      <td>-1.9990</td>\n",
       "      <td>2.993</td>\n",
       "      <td>126.453</td>\n",
       "    </tr>\n",
       "    <tr>\n",
       "      <th>8</th>\n",
       "      <td>1</td>\n",
       "      <td>24</td>\n",
       "      <td>2008-04-02 15:25:41</td>\n",
       "      <td>2.035338</td>\n",
       "      <td>3.887994</td>\n",
       "      <td>-2.007998</td>\n",
       "      <td>25.380117</td>\n",
       "      <td>-1.9990</td>\n",
       "      <td>2.985</td>\n",
       "      <td>144.641</td>\n",
       "    </tr>\n",
       "    <tr>\n",
       "      <th>9</th>\n",
       "      <td>1</td>\n",
       "      <td>24</td>\n",
       "      <td>2008-04-02 15:25:41</td>\n",
       "      <td>2.035338</td>\n",
       "      <td>3.880200</td>\n",
       "      <td>-2.012029</td>\n",
       "      <td>25.554437</td>\n",
       "      <td>-1.9990</td>\n",
       "      <td>2.977</td>\n",
       "      <td>162.844</td>\n",
       "    </tr>\n",
       "  </tbody>\n",
       "</table>\n",
       "</div>"
      ],
      "text/plain": [
       "   cycle  ambient_temperature             datetime  capacity  \\\n",
       "0      1                   24  2008-04-02 15:25:41  2.035338   \n",
       "1      1                   24  2008-04-02 15:25:41  2.035338   \n",
       "2      1                   24  2008-04-02 15:25:41  2.035338   \n",
       "3      1                   24  2008-04-02 15:25:41  2.035338   \n",
       "4      1                   24  2008-04-02 15:25:41  2.035338   \n",
       "5      1                   24  2008-04-02 15:25:41  2.035338   \n",
       "6      1                   24  2008-04-02 15:25:41  2.035338   \n",
       "7      1                   24  2008-04-02 15:25:41  2.035338   \n",
       "8      1                   24  2008-04-02 15:25:41  2.035338   \n",
       "9      1                   24  2008-04-02 15:25:41  2.035338   \n",
       "\n",
       "   voltage_measured  current_measured  temperature_measured  current_load  \\\n",
       "0          4.179800         -0.002366             24.277568       -0.0006   \n",
       "1          4.179823          0.000434             24.277073       -0.0006   \n",
       "2          3.966528         -2.014242             24.366226       -1.9990   \n",
       "3          3.945886         -2.008730             24.515123       -1.9990   \n",
       "4          3.930354         -2.013381             24.676053       -1.9990   \n",
       "5          3.917440         -2.011192             24.853025       -1.9990   \n",
       "6          3.906451         -2.010007             25.018929       -1.9990   \n",
       "7          3.896511         -2.010279             25.204449       -1.9990   \n",
       "8          3.887994         -2.007998             25.380117       -1.9990   \n",
       "9          3.880200         -2.012029             25.554437       -1.9990   \n",
       "\n",
       "   voltage_load     time  \n",
       "0         0.000    0.000  \n",
       "1         4.195   16.781  \n",
       "2         3.070   35.703  \n",
       "3         3.045   53.781  \n",
       "4         3.026   71.922  \n",
       "5         3.011   90.094  \n",
       "6         3.002  108.281  \n",
       "7         2.993  126.453  \n",
       "8         2.985  144.641  \n",
       "9         2.977  162.844  "
      ]
     },
     "execution_count": 2,
     "metadata": {},
     "output_type": "execute_result"
    }
   ],
   "source": [
    "# Load the dataset from CSV file\n",
    "dataset = pd.read_csv(r\"C:\\Users\\DELL\\Desktop\\B0006.csv\")\n",
    "dataset.head(10)"
   ]
  },
  {
   "cell_type": "code",
   "execution_count": 3,
   "id": "06967079",
   "metadata": {},
   "outputs": [],
   "source": [
    "# Assuming your dataset has columns for features (X) and target variables (y_soc and y_health)\n",
    "X = dataset[['voltage_measured', 'current_measured','voltage_load','temperature_measured']]  # Replace feature1, feature2, feature3 with actual column names\n",
    "y_soc = dataset['capacity']  # State-of-charge (SoC)\n",
    "y_health = dataset['current_load']  # Battery health\n"
   ]
  },
  {
   "cell_type": "code",
   "execution_count": 4,
   "id": "dce15f67",
   "metadata": {},
   "outputs": [
    {
     "name": "stdout",
     "output_type": "stream",
     "text": [
      "       voltage_measured  current_measured  voltage_load  temperature_measured\n",
      "30430          3.498114         -2.008795         2.600             31.883454\n",
      "18736          3.250992         -2.010925         2.344             36.238312\n",
      "5579           3.487529         -2.010572         2.590             32.344841\n",
      "21114          2.899828         -2.010298         2.003             38.743858\n",
      "8891           3.040773         -0.002555         0.000             36.810168\n",
      "...                 ...               ...           ...                   ...\n",
      "11284          3.662172         -2.009209         2.757             28.395287\n",
      "44732          3.313321         -2.010095         2.406             33.732525\n",
      "38158          3.574697         -0.002585         0.000             37.011558\n",
      "860            3.608433         -2.010376         2.715             31.319941\n",
      "15795          3.736137         -2.009985         2.831             28.711407\n",
      "\n",
      "[40228 rows x 4 columns]\n",
      "       voltage_measured  current_measured  voltage_load  temperature_measured\n",
      "40407          3.518784         -2.012651         2.609             29.940698\n",
      "6890           3.584185         -2.008367         2.683             30.028223\n",
      "23770          2.905820         -0.003692         0.001             40.752214\n",
      "40914          3.559688          0.000352         0.000             37.421158\n",
      "44860          3.627090         -0.001166         0.000             36.241535\n",
      "...                 ...               ...           ...                   ...\n",
      "47150          3.290598         -2.011138         2.378             34.508772\n",
      "9097           3.486101         -2.009881         2.580             31.769179\n",
      "28713          3.529830         -0.004194         0.000             35.226625\n",
      "49232          3.285839         -2.011857         2.376             34.522048\n",
      "47181          3.216145         -2.009609         2.305             36.417964\n",
      "\n",
      "[10057 rows x 4 columns]\n",
      "30430    1.452256\n",
      "18736    1.551171\n",
      "5579     1.857229\n",
      "21114    1.503997\n",
      "8891     1.771013\n",
      "           ...   \n",
      "11284    1.702408\n",
      "44732    1.253435\n",
      "38158    1.331235\n",
      "860      2.000528\n",
      "15795    1.629200\n",
      "Name: capacity, Length: 40228, dtype: float64\n",
      "30430    1.9990\n",
      "18736    1.9990\n",
      "5579    -1.9990\n",
      "21114    1.9990\n",
      "8891     0.0006\n",
      "          ...  \n",
      "11284    1.9990\n",
      "44732    1.9990\n",
      "38158    0.0006\n",
      "860     -1.9990\n",
      "15795    1.9990\n",
      "Name: current_load, Length: 40228, dtype: float64\n",
      "40407    1.310119\n",
      "6890     1.839251\n",
      "23770    1.473215\n",
      "40914    1.305216\n",
      "44860    1.253435\n",
      "           ...   \n",
      "47150    1.205616\n",
      "9097     1.760471\n",
      "28713    1.446867\n",
      "49232    1.164401\n",
      "47181    1.205616\n",
      "Name: capacity, Length: 10057, dtype: float64\n",
      "40407    1.9988\n",
      "6890     1.9990\n",
      "23770    0.0006\n",
      "40914    0.0006\n",
      "44860    0.0006\n",
      "          ...  \n",
      "47150    1.9988\n",
      "9097     1.9990\n",
      "28713    0.0008\n",
      "49232    1.9990\n",
      "47181    1.9990\n",
      "Name: current_load, Length: 10057, dtype: float64\n"
     ]
    }
   ],
   "source": [
    "# Split the data into training and testing sets\n",
    "X_train, X_test, y_soc_train, y_soc_test, y_health_train, y_health_test = train_test_split(X, y_soc, y_health, test_size=0.2, random_state=42)\n",
    "print(X_train)\n",
    "print(X_test)\n",
    "print(y_soc_train)\n",
    "print(y_health_train)\n",
    "print(y_soc_test)\n",
    "print(y_health_test)"
   ]
  },
  {
   "cell_type": "code",
   "execution_count": 5,
   "id": "31596084",
   "metadata": {},
   "outputs": [
    {
     "data": {
      "text/html": [
       "<style>#sk-container-id-1 {color: black;}#sk-container-id-1 pre{padding: 0;}#sk-container-id-1 div.sk-toggleable {background-color: white;}#sk-container-id-1 label.sk-toggleable__label {cursor: pointer;display: block;width: 100%;margin-bottom: 0;padding: 0.3em;box-sizing: border-box;text-align: center;}#sk-container-id-1 label.sk-toggleable__label-arrow:before {content: \"▸\";float: left;margin-right: 0.25em;color: #696969;}#sk-container-id-1 label.sk-toggleable__label-arrow:hover:before {color: black;}#sk-container-id-1 div.sk-estimator:hover label.sk-toggleable__label-arrow:before {color: black;}#sk-container-id-1 div.sk-toggleable__content {max-height: 0;max-width: 0;overflow: hidden;text-align: left;background-color: #f0f8ff;}#sk-container-id-1 div.sk-toggleable__content pre {margin: 0.2em;color: black;border-radius: 0.25em;background-color: #f0f8ff;}#sk-container-id-1 input.sk-toggleable__control:checked~div.sk-toggleable__content {max-height: 200px;max-width: 100%;overflow: auto;}#sk-container-id-1 input.sk-toggleable__control:checked~label.sk-toggleable__label-arrow:before {content: \"▾\";}#sk-container-id-1 div.sk-estimator input.sk-toggleable__control:checked~label.sk-toggleable__label {background-color: #d4ebff;}#sk-container-id-1 div.sk-label input.sk-toggleable__control:checked~label.sk-toggleable__label {background-color: #d4ebff;}#sk-container-id-1 input.sk-hidden--visually {border: 0;clip: rect(1px 1px 1px 1px);clip: rect(1px, 1px, 1px, 1px);height: 1px;margin: -1px;overflow: hidden;padding: 0;position: absolute;width: 1px;}#sk-container-id-1 div.sk-estimator {font-family: monospace;background-color: #f0f8ff;border: 1px dotted black;border-radius: 0.25em;box-sizing: border-box;margin-bottom: 0.5em;}#sk-container-id-1 div.sk-estimator:hover {background-color: #d4ebff;}#sk-container-id-1 div.sk-parallel-item::after {content: \"\";width: 100%;border-bottom: 1px solid gray;flex-grow: 1;}#sk-container-id-1 div.sk-label:hover label.sk-toggleable__label {background-color: #d4ebff;}#sk-container-id-1 div.sk-serial::before {content: \"\";position: absolute;border-left: 1px solid gray;box-sizing: border-box;top: 0;bottom: 0;left: 50%;z-index: 0;}#sk-container-id-1 div.sk-serial {display: flex;flex-direction: column;align-items: center;background-color: white;padding-right: 0.2em;padding-left: 0.2em;position: relative;}#sk-container-id-1 div.sk-item {position: relative;z-index: 1;}#sk-container-id-1 div.sk-parallel {display: flex;align-items: stretch;justify-content: center;background-color: white;position: relative;}#sk-container-id-1 div.sk-item::before, #sk-container-id-1 div.sk-parallel-item::before {content: \"\";position: absolute;border-left: 1px solid gray;box-sizing: border-box;top: 0;bottom: 0;left: 50%;z-index: -1;}#sk-container-id-1 div.sk-parallel-item {display: flex;flex-direction: column;z-index: 1;position: relative;background-color: white;}#sk-container-id-1 div.sk-parallel-item:first-child::after {align-self: flex-end;width: 50%;}#sk-container-id-1 div.sk-parallel-item:last-child::after {align-self: flex-start;width: 50%;}#sk-container-id-1 div.sk-parallel-item:only-child::after {width: 0;}#sk-container-id-1 div.sk-dashed-wrapped {border: 1px dashed gray;margin: 0 0.4em 0.5em 0.4em;box-sizing: border-box;padding-bottom: 0.4em;background-color: white;}#sk-container-id-1 div.sk-label label {font-family: monospace;font-weight: bold;display: inline-block;line-height: 1.2em;}#sk-container-id-1 div.sk-label-container {text-align: center;}#sk-container-id-1 div.sk-container {/* jupyter's `normalize.less` sets `[hidden] { display: none; }` but bootstrap.min.css set `[hidden] { display: none !important; }` so we also need the `!important` here to be able to override the default hidden behavior on the sphinx rendered scikit-learn.org. See: https://github.com/scikit-learn/scikit-learn/issues/21755 */display: inline-block !important;position: relative;}#sk-container-id-1 div.sk-text-repr-fallback {display: none;}</style><div id=\"sk-container-id-1\" class=\"sk-top-container\"><div class=\"sk-text-repr-fallback\"><pre>LinearRegression()</pre><b>In a Jupyter environment, please rerun this cell to show the HTML representation or trust the notebook. <br />On GitHub, the HTML representation is unable to render, please try loading this page with nbviewer.org.</b></div><div class=\"sk-container\" hidden><div class=\"sk-item\"><div class=\"sk-estimator sk-toggleable\"><input class=\"sk-toggleable__control sk-hidden--visually\" id=\"sk-estimator-id-1\" type=\"checkbox\" checked><label for=\"sk-estimator-id-1\" class=\"sk-toggleable__label sk-toggleable__label-arrow\">LinearRegression</label><div class=\"sk-toggleable__content\"><pre>LinearRegression()</pre></div></div></div></div></div>"
      ],
      "text/plain": [
       "LinearRegression()"
      ]
     },
     "execution_count": 5,
     "metadata": {},
     "output_type": "execute_result"
    }
   ],
   "source": [
    "# Train a machine learning model for SoC estimation\n",
    "soc_model = LinearRegression()\n",
    "soc_model.fit(X_train, y_soc_train)"
   ]
  },
  {
   "cell_type": "code",
   "execution_count": 6,
   "id": "a351c5cd",
   "metadata": {},
   "outputs": [
    {
     "data": {
      "text/html": [
       "<style>#sk-container-id-2 {color: black;}#sk-container-id-2 pre{padding: 0;}#sk-container-id-2 div.sk-toggleable {background-color: white;}#sk-container-id-2 label.sk-toggleable__label {cursor: pointer;display: block;width: 100%;margin-bottom: 0;padding: 0.3em;box-sizing: border-box;text-align: center;}#sk-container-id-2 label.sk-toggleable__label-arrow:before {content: \"▸\";float: left;margin-right: 0.25em;color: #696969;}#sk-container-id-2 label.sk-toggleable__label-arrow:hover:before {color: black;}#sk-container-id-2 div.sk-estimator:hover label.sk-toggleable__label-arrow:before {color: black;}#sk-container-id-2 div.sk-toggleable__content {max-height: 0;max-width: 0;overflow: hidden;text-align: left;background-color: #f0f8ff;}#sk-container-id-2 div.sk-toggleable__content pre {margin: 0.2em;color: black;border-radius: 0.25em;background-color: #f0f8ff;}#sk-container-id-2 input.sk-toggleable__control:checked~div.sk-toggleable__content {max-height: 200px;max-width: 100%;overflow: auto;}#sk-container-id-2 input.sk-toggleable__control:checked~label.sk-toggleable__label-arrow:before {content: \"▾\";}#sk-container-id-2 div.sk-estimator input.sk-toggleable__control:checked~label.sk-toggleable__label {background-color: #d4ebff;}#sk-container-id-2 div.sk-label input.sk-toggleable__control:checked~label.sk-toggleable__label {background-color: #d4ebff;}#sk-container-id-2 input.sk-hidden--visually {border: 0;clip: rect(1px 1px 1px 1px);clip: rect(1px, 1px, 1px, 1px);height: 1px;margin: -1px;overflow: hidden;padding: 0;position: absolute;width: 1px;}#sk-container-id-2 div.sk-estimator {font-family: monospace;background-color: #f0f8ff;border: 1px dotted black;border-radius: 0.25em;box-sizing: border-box;margin-bottom: 0.5em;}#sk-container-id-2 div.sk-estimator:hover {background-color: #d4ebff;}#sk-container-id-2 div.sk-parallel-item::after {content: \"\";width: 100%;border-bottom: 1px solid gray;flex-grow: 1;}#sk-container-id-2 div.sk-label:hover label.sk-toggleable__label {background-color: #d4ebff;}#sk-container-id-2 div.sk-serial::before {content: \"\";position: absolute;border-left: 1px solid gray;box-sizing: border-box;top: 0;bottom: 0;left: 50%;z-index: 0;}#sk-container-id-2 div.sk-serial {display: flex;flex-direction: column;align-items: center;background-color: white;padding-right: 0.2em;padding-left: 0.2em;position: relative;}#sk-container-id-2 div.sk-item {position: relative;z-index: 1;}#sk-container-id-2 div.sk-parallel {display: flex;align-items: stretch;justify-content: center;background-color: white;position: relative;}#sk-container-id-2 div.sk-item::before, #sk-container-id-2 div.sk-parallel-item::before {content: \"\";position: absolute;border-left: 1px solid gray;box-sizing: border-box;top: 0;bottom: 0;left: 50%;z-index: -1;}#sk-container-id-2 div.sk-parallel-item {display: flex;flex-direction: column;z-index: 1;position: relative;background-color: white;}#sk-container-id-2 div.sk-parallel-item:first-child::after {align-self: flex-end;width: 50%;}#sk-container-id-2 div.sk-parallel-item:last-child::after {align-self: flex-start;width: 50%;}#sk-container-id-2 div.sk-parallel-item:only-child::after {width: 0;}#sk-container-id-2 div.sk-dashed-wrapped {border: 1px dashed gray;margin: 0 0.4em 0.5em 0.4em;box-sizing: border-box;padding-bottom: 0.4em;background-color: white;}#sk-container-id-2 div.sk-label label {font-family: monospace;font-weight: bold;display: inline-block;line-height: 1.2em;}#sk-container-id-2 div.sk-label-container {text-align: center;}#sk-container-id-2 div.sk-container {/* jupyter's `normalize.less` sets `[hidden] { display: none; }` but bootstrap.min.css set `[hidden] { display: none !important; }` so we also need the `!important` here to be able to override the default hidden behavior on the sphinx rendered scikit-learn.org. See: https://github.com/scikit-learn/scikit-learn/issues/21755 */display: inline-block !important;position: relative;}#sk-container-id-2 div.sk-text-repr-fallback {display: none;}</style><div id=\"sk-container-id-2\" class=\"sk-top-container\"><div class=\"sk-text-repr-fallback\"><pre>LinearRegression()</pre><b>In a Jupyter environment, please rerun this cell to show the HTML representation or trust the notebook. <br />On GitHub, the HTML representation is unable to render, please try loading this page with nbviewer.org.</b></div><div class=\"sk-container\" hidden><div class=\"sk-item\"><div class=\"sk-estimator sk-toggleable\"><input class=\"sk-toggleable__control sk-hidden--visually\" id=\"sk-estimator-id-2\" type=\"checkbox\" checked><label for=\"sk-estimator-id-2\" class=\"sk-toggleable__label sk-toggleable__label-arrow\">LinearRegression</label><div class=\"sk-toggleable__content\"><pre>LinearRegression()</pre></div></div></div></div></div>"
      ],
      "text/plain": [
       "LinearRegression()"
      ]
     },
     "execution_count": 6,
     "metadata": {},
     "output_type": "execute_result"
    }
   ],
   "source": [
    "# Train  machine learning model for health estimation\n",
    "health_model = LinearRegression()\n",
    "health_model.fit(X_train, y_health_train)"
   ]
  },
  {
   "cell_type": "code",
   "execution_count": 7,
   "id": "b8eaaf31",
   "metadata": {},
   "outputs": [
    {
     "name": "stdout",
     "output_type": "stream",
     "text": [
      "       Predicted_capacity\n",
      "40407            1.505030\n",
      "6890             1.553824\n",
      "23770            1.200793\n",
      "40914            1.448445\n",
      "44860            1.446257\n",
      "...                   ...\n",
      "47150            1.500133\n",
      "9097             1.543815\n",
      "28713            1.359331\n",
      "49232            1.497686\n",
      "47181            1.512741\n",
      "\n",
      "[10057 rows x 1 columns]\n"
     ]
    }
   ],
   "source": [
    "\n",
    "# Making predictions\n",
    "y_pred = soc_model.predict(X_test)\n",
    "\n",
    "\n",
    "predictions_df = pd.DataFrame(y_pred, index=X_test.index, columns=['Predicted_capacity'])\n",
    "\n",
    "# Print the DataFrame\n",
    "print(predictions_df)\n"
   ]
  },
  {
   "cell_type": "code",
   "execution_count": 8,
   "id": "211d0c7f",
   "metadata": {},
   "outputs": [
    {
     "name": "stdout",
     "output_type": "stream",
     "text": [
      "       Actual capacity  Predicted soc\n",
      "40407         1.310119       1.505030\n",
      "6890          1.839251       1.553824\n",
      "23770         1.473215       1.200793\n",
      "40914         1.305216       1.448445\n",
      "44860         1.253435       1.446257\n",
      "...                ...            ...\n",
      "47150         1.205616       1.500133\n",
      "9097          1.760471       1.543815\n",
      "28713         1.446867       1.359331\n",
      "49232         1.164401       1.497686\n",
      "47181         1.205616       1.512741\n",
      "\n",
      "[10057 rows x 2 columns]\n"
     ]
    }
   ],
   "source": [
    "predictions_df = pd.DataFrame({\n",
    "    'Actual capacity': (y_soc_test),\n",
    "\n",
    "    'Predicted soc': abs(y_pred)\n",
    "})\n",
    "\n",
    "# Display the DataFrame\n",
    "print(predictions_df)"
   ]
  },
  {
   "cell_type": "code",
   "execution_count": 9,
   "id": "bceccb86",
   "metadata": {},
   "outputs": [
    {
     "name": "stdout",
     "output_type": "stream",
     "text": [
      "       Predicted_current_load\n",
      "40407                1.733731\n",
      "6890                 1.469382\n",
      "23770                1.134932\n",
      "40914               -0.388072\n",
      "44860               -0.375125\n",
      "...                       ...\n",
      "47150                1.653020\n",
      "9097                 1.482261\n",
      "28713                0.157750\n",
      "49232                1.667443\n",
      "47181                1.540746\n",
      "\n",
      "[10057 rows x 1 columns]\n"
     ]
    }
   ],
   "source": [
    "# Making predictions\n",
    "y_pred = health_model.predict(X_test)\n",
    "\n",
    "\n",
    "predictions_df = pd.DataFrame(y_pred, index=X_test.index, columns=['Predicted_current_load'])#current _load is  health of battery\n",
    "\n",
    "# Print the DataFrame\n",
    "print(predictions_df)\n"
   ]
  },
  {
   "cell_type": "code",
   "execution_count": 10,
   "id": "a5020a88",
   "metadata": {},
   "outputs": [
    {
     "name": "stdout",
     "output_type": "stream",
     "text": [
      "       Actual current_load  Predicted soh\n",
      "40407               1.9988       1.733731\n",
      "6890                1.9990       1.469382\n",
      "23770               0.0006       1.134932\n",
      "40914               0.0006       0.388072\n",
      "44860               0.0006       0.375125\n",
      "...                    ...            ...\n",
      "47150               1.9988       1.653020\n",
      "9097                1.9990       1.482261\n",
      "28713               0.0008       0.157750\n",
      "49232               1.9990       1.667443\n",
      "47181               1.9990       1.540746\n",
      "\n",
      "[10057 rows x 2 columns]\n"
     ]
    }
   ],
   "source": [
    "predictions_df = pd.DataFrame({\n",
    "    'Actual current_load': (y_health_test),\n",
    "\n",
    "    'Predicted soh': abs(y_pred)\n",
    "})\n",
    "\n",
    "# Display the DataFrame\n",
    "print(predictions_df)"
   ]
  },
  {
   "cell_type": "code",
   "execution_count": 11,
   "id": "ac38d323",
   "metadata": {},
   "outputs": [
    {
     "name": "stdout",
     "output_type": "stream",
     "text": [
      "SoC RMSE: 0.21782532422605283\n",
      "Health RMSE: 1.2162679649112798\n"
     ]
    }
   ],
   "source": [
    "# Evaluate the models\n",
    "soc_predictions = soc_model.predict(X_test)\n",
    "soc_rmse = np.sqrt(mean_squared_error(y_soc_test, soc_predictions))\n",
    "\n",
    "health_predictions = health_model.predict(X_test)\n",
    "health_rmse = np.sqrt(mean_squared_error(y_health_test, health_predictions))\n",
    "\n",
    "print(\"SoC RMSE:\", soc_rmse)\n",
    "print(\"Health RMSE:\", health_rmse)"
   ]
  }
 ],
 "metadata": {
  "kernelspec": {
   "display_name": "Python 3 (ipykernel)",
   "language": "python",
   "name": "python3"
  },
  "language_info": {
   "codemirror_mode": {
    "name": "ipython",
    "version": 3
   },
   "file_extension": ".py",
   "mimetype": "text/x-python",
   "name": "python",
   "nbconvert_exporter": "python",
   "pygments_lexer": "ipython3",
   "version": "3.10.13"
  }
 },
 "nbformat": 4,
 "nbformat_minor": 5
}
